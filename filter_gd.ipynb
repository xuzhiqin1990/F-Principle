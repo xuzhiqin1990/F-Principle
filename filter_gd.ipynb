{
 "cells": [
  {
   "cell_type": "code",
   "execution_count": 2,
   "metadata": {},
   "outputs": [],
   "source": [
    "import os\n",
    "import ml_collections\n",
    "\n",
    "import numpy as np\n",
    "import tensorflow as tf\n",
    "import matplotlib.pyplot as plt\n",
    "import tensorflow_datasets as tfds\n",
    "\n",
    "from tensorflow import keras\n",
    "\n",
    "os.environ[\"CUDA_VISIBLE_DEVICES\"] = '0'"
   ]
  },
  {
   "cell_type": "code",
   "execution_count": 6,
   "metadata": {},
   "outputs": [
    {
     "name": "stdout",
     "output_type": "stream",
     "text": [
      "(50000, 32, 32, 3)\n",
      "(10000, 32, 32, 3)\n",
      "[6]\n"
     ]
    }
   ],
   "source": [
    "data = keras.datasets.cifar10\n",
    "\n",
    "(train_images, train_labels), (test_images, test_labels) = data.load_data()\n",
    "\n",
    "# print(train_images.shape)\n",
    "# print(test_images.shape)\n",
    "# train_images_std = train_images / 255.0\n",
    "# test_images_std = test_images / 255.0\n",
    "# train_labels0 = keras.utils.to_categorical(train_labels, num_classes=10)\n",
    "# test_labels0 = keras.utils.to_categorical(test_labels, num_classes=10)\n",
    "# train_images_align = np.reshape(\n",
    "#     train_images_std, [train_images_std.shape[0], -1])\n",
    "\n",
    "# train_images = train_images_std[:5000]\n",
    "# train_labels = train_labels0[:5000]\n",
    "# train_images_align = train_images_align[:5000]\n",
    "\n",
    "# test_images = test_images_std[:500]\n",
    "# test_labels = test_labels0[:500]"
   ]
  },
  {
   "cell_type": "code",
   "execution_count": null,
   "metadata": {},
   "outputs": [],
   "source": [
    "def compute_distance(x):\n",
    "    dist = -2 * np.dot(x, x.T) + np.sum(x**2, axis=1) + \\\n",
    "        np.sum(x**2, axis=1)[:, np.newaxis]\n",
    "    return dist\n",
    "\n",
    "\n",
    "def normal_kernel(dist, filter_dict):\n",
    "    kernel_dict = []\n",
    "    for filter in filter_dict:\n",
    "        kernel = np.exp(-dist / 2 / filter)\n",
    "        mean = np.sum(kernel, axis=1, keepdims=True)\n",
    "        kernel_dict.append(kernel/mean)\n",
    "    return kernel_dict\n",
    "\n",
    "\n",
    "def gauss_filiter(f_orig, kernel):\n",
    "    return np.matmul(kernel, f_orig)\n",
    "\n",
    "\n",
    "def get_freq_low_high(yy, kernel_dict):\n",
    "    f_low = []\n",
    "    f_high = []\n",
    "    diff_fil = []\n",
    "    for filter in range(len(kernel_dict)):\n",
    "        kernel = kernel_dict[filter]\n",
    "        f_new_norm = gauss_filiter(yy, kernel)\n",
    "        f_low.append(f_new_norm)\n",
    "        tmp_diff = np.mean(np.square(yy - f_new_norm))\n",
    "        diff_fil.append(tmp_diff)\n",
    "        f_high_tmp = yy - f_new_norm\n",
    "        f_high.append(f_high_tmp)\n",
    "\n",
    "    return f_low, f_high, diff_fil"
   ]
  }
 ],
 "metadata": {
  "interpreter": {
   "hash": "0fff3a2c054a5d83053cb95d2ca3b099f5b8f713534c8bf128490ee39121907f"
  },
  "kernelspec": {
   "display_name": "Python 3.8.8 64-bit ('tf2': conda)",
   "language": "python",
   "name": "python3"
  },
  "language_info": {
   "codemirror_mode": {
    "name": "ipython",
    "version": 3
   },
   "file_extension": ".py",
   "mimetype": "text/x-python",
   "name": "python",
   "nbconvert_exporter": "python",
   "pygments_lexer": "ipython3",
   "version": "3.8.8"
  },
  "orig_nbformat": 4
 },
 "nbformat": 4,
 "nbformat_minor": 2
}
